{
 "cells": [
  {
   "cell_type": "code",
   "execution_count": 2,
   "metadata": {
    "collapsed": false
   },
   "outputs": [
    {
     "name": "stdout",
     "output_type": "stream",
     "text": [
      "89\n",
      "<Response [200]>\n",
      "正在下载田媛媛的头像.........\n",
      "______________________________________下载完毕_________________________________________________\n"
     ]
    }
   ],
   "source": [
    "#encoding:utf-8\n",
    "\n",
    "import requests\n",
    "import lxml.html\n",
    "from lxml import etree\n",
    "import time\n",
    "import os\n",
    "\n",
    "icons_list = []\n",
    "\n",
    "for i in range(1,10):\n",
    "    url = 'https://mm.taobao.com/json/request_top_list.htm?page={}'.format(i)\n",
    "#url = 'http://mm.taobao.com/json/request_top_list.htm?page=1'\n",
    "    headers = {\n",
    "#     'Host':'mm.taobao.com',\n",
    "#     'Accept-Language':'zh-CN,zh;q=0.8,en;q=0.6',\n",
    "#     'Accept-Encoding':'gzip,deflate,sdch,br',\n",
    "#     'Connection':'keep-alive',\n",
    "#     'Pragma':'no-cache',\n",
    "#     'Cache-Control':'no-cache',\n",
    "#     'Upgrade-Insecure-Requests':'1',\n",
    "#     'Accept':'text/html,application/xhtml+xml,application/xml;q=0.9,image/wepb,*/*;q=0.8',\n",
    "    'User-Agent':'Moilla/5.0(Macintosh;Intel Mac OS X 10_12_4)'\n",
    "                  'AppleWebKit/537.36(KHTML,Like Gecko) Chrome/57.0.2987.133 Safari/537.36',\n",
    "    }\n",
    "\n",
    "    response = requests.get(url,headers = headers)\n",
    "    time.sleep(3)\n",
    "    html_1 = response.text  \n",
    "\n",
    "    page = etree.HTML(html_1)\n",
    "    \n",
    "    for i in page.xpath('/html/body/div'):\n",
    "\n",
    "    #     next_href = i.xpath('div[@class=\"personal-info\"]/div[@class=\"pic-word\"]/div[@class=\"pic s60\"]/a')[0].attrib.get('href')\n",
    "    #     next_href_all = 'http:' + href\n",
    "        icon_list = []\n",
    "        icon_href = i.xpath('div[@class=\"personal-info\"]/div[@class=\"pic-word\"]/div[@class=\"pic s60\"]/a/img')[0] .attrib.get('src') \n",
    "        icon_href_all = 'http:' + icon_href\n",
    "        icon_list.append(icon_href_all)\n",
    "        name = i.xpath('div[@class=\"personal-info\"]/div[@class=\"pic-word\"]/p[@class=\"top\"]/a')[0].text\n",
    "        icon_list.append(name)\n",
    "    #    print(icon_list)\n",
    "    #     age = i.xpath('div[@class=\"personal-info\"]/div[@class=\"pic-word\"]/p[@class=\"top\"]/em/strong')[0].text\n",
    "    \n",
    "    #     address = i.xpath('div[@class=\"personal-info\"]/div[@class=\"pic-word\"]/p[@class=\"top\"]/span')[0].text\n",
    "        icons_list.append(icon_list)\n",
    "print(len(icons_list))\n",
    "#print(icons_list)\n",
    "for each_icon in icons_list:\n",
    "    icon_href = each_icon[0]\n",
    "#    print(icon)\n",
    "    name = each_icon[1]\n",
    "#    print(name)\n",
    "    root_path = 'D:/pic/'\n",
    "    path = root_path + name + '.jpg'\n",
    "    if not os.path.exists(root_path):\n",
    "        os.mkdir(root_path)\n",
    "    if not os.path.exists(path):        \n",
    "        icon_response = requests.get(icon_href,headers = headers)\n",
    "        print(icon_response)\n",
    "        with open(path,'wb')as f:\n",
    "            f.write(icon_response.content)\n",
    "            f.close\n",
    "        print('正在下载' + name + '的头像.........')\n",
    "        time.sleep(2)\n",
    "    else:\n",
    "        continue\n",
    "print('______________________________________下载完毕_________________________________________________')"
   ]
  },
  {
   "cell_type": "code",
   "execution_count": null,
   "metadata": {
    "collapsed": true
   },
   "outputs": [],
   "source": []
  }
 ],
 "metadata": {
  "kernelspec": {
   "display_name": "Python 3",
   "language": "python",
   "name": "python3"
  },
  "language_info": {
   "codemirror_mode": {
    "name": "ipython",
    "version": 3
   },
   "file_extension": ".py",
   "mimetype": "text/x-python",
   "name": "python",
   "nbconvert_exporter": "python",
   "pygments_lexer": "ipython3",
   "version": "3.6.0"
  }
 },
 "nbformat": 4,
 "nbformat_minor": 2
}

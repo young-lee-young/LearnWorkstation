{
 "cells": [
  {
   "cell_type": "code",
   "execution_count": 1,
   "metadata": {
    "collapsed": false
   },
   "outputs": [
    {
     "name": "stdout",
     "output_type": "stream",
     "text": [
      "108 46 9\n"
     ]
    },
    {
     "data": {
      "image/png": "[encoded data removed]",
      "text/plain": [
       "<matplotlib.figure.Figure at 0x1ebdff9af28>"
      ]
     },
     "metadata": {},
     "output_type": "display_data"
    }
   ],
   "source": [
    "import pandas as pd\n",
    "import numpy as np\n",
    "import matplotlib.pyplot as plt\n",
    "\n",
    "df = pd.read_csv('D:/spider/1.csv', encoding='gbk')\n",
    "male = (df['Sex'] == 1).sum()\n",
    "female = (df['Sex'] == 2).sum()\n",
    "unknow = (df['Sex'] == 0).sum()\n",
    "print(male, female, unknow)\n",
    "fig = plt.figure('mywechatfriends', figsize=(16, 9))\n",
    "ax1 = fig.add_subplot(2, 2, 1)\n",
    "labels = ['male', 'female', 'unknow']\n",
    "x = np.arange(1, 4)\n",
    "y = [male, female, unknow]\n",
    "bars = ax1.bar(x, y, width=0.5)\n",
    "for bar in bars:\n",
    "    x_bar = bar.get_x()\n",
    "    height = bar.get_height()\n",
    "    ax1.text(x_bar + 0.2, height + 3, str(int(height)), color='r', fontsize='15')\n",
    "plt.xticks(x, labels)\n",
    "plt.show()"
   ]
  },
  {
   "cell_type": "code",
   "execution_count": null,
   "metadata": {
    "collapsed": true
   },
   "outputs": [],
   "source": []
  }
 ],
 "metadata": {
  "kernelspec": {
   "display_name": "Python 3",
   "language": "python",
   "name": "python3"
  },
  "language_info": {
   "codemirror_mode": {
    "name": "ipython",
    "version": 3
   },
   "file_extension": ".py",
   "mimetype": "text/x-python",
   "name": "python",
   "nbconvert_exporter": "python",
   "pygments_lexer": "ipython3",
   "version": "3.6.0"
  }
 },
 "nbformat": 4,
 "nbformat_minor": 2
}

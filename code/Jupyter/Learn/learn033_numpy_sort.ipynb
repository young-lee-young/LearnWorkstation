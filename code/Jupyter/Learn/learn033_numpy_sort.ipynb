{
 "cells": [
  {
   "cell_type": "code",
   "execution_count": 1,
   "metadata": {
    "collapsed": true
   },
   "outputs": [],
   "source": [
    "import numpy as np"
   ]
  },
  {
   "cell_type": "code",
   "execution_count": 2,
   "metadata": {
    "collapsed": true
   },
   "outputs": [],
   "source": [
    "arr = np.random.rand(3,5)"
   ]
  },
  {
   "cell_type": "code",
   "execution_count": 3,
   "metadata": {
    "collapsed": false
   },
   "outputs": [
    {
     "data": {
      "text/plain": [
       "array([[ 0.5170429 ,  0.14541425,  0.64367156,  0.04314581,  0.33588955],\n",
       "       [ 0.1806138 ,  0.09485069,  0.72618948,  0.52303466,  0.48419311],\n",
       "       [ 0.76030569,  0.72790898,  0.44272214,  0.5967931 ,  0.07343348]])"
      ]
     },
     "execution_count": 3,
     "metadata": {},
     "output_type": "execute_result"
    }
   ],
   "source": [
    "arr"
   ]
  },
  {
   "cell_type": "code",
   "execution_count": 4,
   "metadata": {
    "collapsed": true
   },
   "outputs": [],
   "source": [
    "# sort函数不返回任何值, 作用在原数据上\n",
    "\n",
    "arr.sort()"
   ]
  },
  {
   "cell_type": "code",
   "execution_count": 5,
   "metadata": {
    "collapsed": false
   },
   "outputs": [
    {
     "data": {
      "text/plain": [
       "array([[ 0.04314581,  0.14541425,  0.33588955,  0.5170429 ,  0.64367156],\n",
       "       [ 0.09485069,  0.1806138 ,  0.48419311,  0.52303466,  0.72618948],\n",
       "       [ 0.07343348,  0.44272214,  0.5967931 ,  0.72790898,  0.76030569]])"
      ]
     },
     "execution_count": 5,
     "metadata": {},
     "output_type": "execute_result"
    }
   ],
   "source": [
    "arr"
   ]
  },
  {
   "cell_type": "code",
   "execution_count": 6,
   "metadata": {
    "collapsed": true
   },
   "outputs": [],
   "source": [
    "# 上面的数据已经改变, 重新创建一组数据\n",
    "\n",
    "arr_2 = np.random.rand(3,5)"
   ]
  },
  {
   "cell_type": "code",
   "execution_count": 7,
   "metadata": {
    "collapsed": false
   },
   "outputs": [
    {
     "data": {
      "text/plain": [
       "array([[ 0.3858769 ,  0.21936524,  0.21973616,  0.03880085,  0.53571959],\n",
       "       [ 0.66030207,  0.28957006,  0.69184168,  0.94794062,  0.58476991],\n",
       "       [ 0.81227393,  0.54695971,  0.21986702,  0.72433933,  0.96935868]])"
      ]
     },
     "execution_count": 7,
     "metadata": {},
     "output_type": "execute_result"
    }
   ],
   "source": [
    "arr_2"
   ]
  },
  {
   "cell_type": "code",
   "execution_count": 8,
   "metadata": {
    "collapsed": true
   },
   "outputs": [],
   "source": [
    "# 不加axis参数的话, 默认是1\n",
    "\n",
    "arr_2.sort(axis=0)"
   ]
  },
  {
   "cell_type": "code",
   "execution_count": 9,
   "metadata": {
    "collapsed": false
   },
   "outputs": [
    {
     "data": {
      "text/plain": [
       "array([[ 0.3858769 ,  0.21936524,  0.21973616,  0.03880085,  0.53571959],\n",
       "       [ 0.66030207,  0.28957006,  0.21986702,  0.72433933,  0.58476991],\n",
       "       [ 0.81227393,  0.54695971,  0.69184168,  0.94794062,  0.96935868]])"
      ]
     },
     "execution_count": 9,
     "metadata": {},
     "output_type": "execute_result"
    }
   ],
   "source": [
    "arr_2"
   ]
  },
  {
   "cell_type": "code",
   "execution_count": 10,
   "metadata": {
    "collapsed": true
   },
   "outputs": [],
   "source": [
    "arr_3 = np.random.rand(3,5)"
   ]
  },
  {
   "cell_type": "code",
   "execution_count": 11,
   "metadata": {
    "collapsed": false
   },
   "outputs": [
    {
     "data": {
      "text/plain": [
       "array([[ 0.89115691,  0.34694083,  0.52238606,  0.16874284,  0.7170538 ],\n",
       "       [ 0.97633336,  0.88330898,  0.56071517,  0.24576435,  0.59428692],\n",
       "       [ 0.36107726,  0.64286971,  0.93871302,  0.93456772,  0.61383299]])"
      ]
     },
     "execution_count": 11,
     "metadata": {},
     "output_type": "execute_result"
    }
   ],
   "source": [
    "arr_3"
   ]
  },
  {
   "cell_type": "code",
   "execution_count": 12,
   "metadata": {
    "collapsed": false
   },
   "outputs": [
    {
     "data": {
      "text/plain": [
       "array([[ 0.16874284,  0.34694083,  0.52238606,  0.7170538 ,  0.89115691],\n",
       "       [ 0.24576435,  0.56071517,  0.59428692,  0.88330898,  0.97633336],\n",
       "       [ 0.36107726,  0.61383299,  0.64286971,  0.93456772,  0.93871302]])"
      ]
     },
     "execution_count": 12,
     "metadata": {},
     "output_type": "execute_result"
    }
   ],
   "source": [
    "# np.sort排序返回的是数组的排序副本, 原数组为改变\n",
    "\n",
    "np.sort(arr_3)"
   ]
  },
  {
   "cell_type": "code",
   "execution_count": 13,
   "metadata": {
    "collapsed": false
   },
   "outputs": [
    {
     "data": {
      "text/plain": [
       "array([[ 0.89115691,  0.34694083,  0.52238606,  0.16874284,  0.7170538 ],\n",
       "       [ 0.97633336,  0.88330898,  0.56071517,  0.24576435,  0.59428692],\n",
       "       [ 0.36107726,  0.64286971,  0.93871302,  0.93456772,  0.61383299]])"
      ]
     },
     "execution_count": 13,
     "metadata": {},
     "output_type": "execute_result"
    }
   ],
   "source": [
    "arr_3"
   ]
  },
  {
   "cell_type": "code",
   "execution_count": 14,
   "metadata": {
    "collapsed": false
   },
   "outputs": [
    {
     "data": {
      "text/plain": [
       "array([[ 0.36107726,  0.34694083,  0.52238606,  0.16874284,  0.59428692],\n",
       "       [ 0.89115691,  0.64286971,  0.56071517,  0.24576435,  0.61383299],\n",
       "       [ 0.97633336,  0.88330898,  0.93871302,  0.93456772,  0.7170538 ]])"
      ]
     },
     "execution_count": 14,
     "metadata": {},
     "output_type": "execute_result"
    }
   ],
   "source": [
    "# 也可以加上axis参数\n",
    "\n",
    "np.sort(arr_3, axis=0)"
   ]
  },
  {
   "cell_type": "code",
   "execution_count": null,
   "metadata": {
    "collapsed": true
   },
   "outputs": [],
   "source": []
  }
 ],
 "metadata": {
  "kernelspec": {
   "display_name": "Python 3",
   "language": "python",
   "name": "python3"
  },
  "language_info": {
   "codemirror_mode": {
    "name": "ipython",
    "version": 3
   },
   "file_extension": ".py",
   "mimetype": "text/x-python",
   "name": "python",
   "nbconvert_exporter": "python",
   "pygments_lexer": "ipython3",
   "version": "3.6.0"
  }
 },
 "nbformat": 4,
 "nbformat_minor": 2
}
